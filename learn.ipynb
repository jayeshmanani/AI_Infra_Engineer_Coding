{
 "cells": [
  {
   "cell_type": "code",
   "execution_count": 1,
   "id": "4caf0a9e-19d2-4a84-969f-b13766795fa2",
   "metadata": {},
   "outputs": [
    {
     "name": "stderr",
     "output_type": "stream",
     "text": [
      "C:\\Users\\jayes\\Downloads\\CodingTask\\ai_infra_venv\\Lib\\site-packages\\tqdm\\auto.py:21: TqdmWarning: IProgress not found. Please update jupyter and ipywidgets. See https://ipywidgets.readthedocs.io/en/stable/user_install.html\n",
      "  from .autonotebook import tqdm as notebook_tqdm\n"
     ]
    }
   ],
   "source": [
    "from transformers import CLIPProcessor, CLIPModel\n",
    "import torch\n",
    "from PIL import Image\n",
    "import numpy as np"
   ]
  },
  {
   "cell_type": "code",
   "execution_count": 3,
   "id": "59ed1076-0b17-4e40-97a8-6a9c8e5a427a",
   "metadata": {},
   "outputs": [
    {
     "data": {
      "text/plain": [
       "False"
      ]
     },
     "execution_count": 3,
     "metadata": {},
     "output_type": "execute_result"
    }
   ],
   "source": [
    "torch.cuda.is_available()"
   ]
  },
  {
   "cell_type": "code",
   "execution_count": 4,
   "id": "ca965d9c-22f8-4941-a57d-630a52017b04",
   "metadata": {},
   "outputs": [],
   "source": [
    "# torch.device('cuda' if torch.cuda.is_available() else 'cpu')"
   ]
  },
  {
   "cell_type": "code",
   "execution_count": 2,
   "id": "a7e6a3d8-d922-48dc-bfee-6fc689bd9d66",
   "metadata": {},
   "outputs": [],
   "source": [
    "class ProductModel:\n",
    "    def __init__(self):\n",
    "        self.model = CLIPModel.from_pretrained(\"openai/clip-vit-base-patch32\")\n",
    "        self.processor = CLIPProcessor.from_pretrained(\"openai/clip-vit-base-patch32\")\n",
    "\n",
    "        print(\"Quantizing model components for CPU compatibility (mocking TensorRT)...\")\n",
    "        self.model.vision_model = torch.quantization.quantize_dynamic(\n",
    "            self.model.vision_model, {torch.nn.Linear}, dtype=torch.qint8\n",
    "        )\n",
    "        self.model.text_model = torch.quantization.quantize_dynamic(\n",
    "            self.model.text_model, {torch.nn.Linear}, dtype=torch.qint8\n",
    "        )\n",
    "        self.model.visual_projection = torch.quantization.quantize_dynamic(\n",
    "            self.model.visual_projection, {torch.nn.Linear}, dtype=torch.qint8\n",
    "        )\n",
    "        self.model.text_projection = torch.quantization.quantize_dynamic(\n",
    "            self.model.text_projection, {torch.nn.Linear}, dtype=torch.qint8\n",
    "        )\n",
    "        self.model.eval()\n",
    "\n",
    "    def get_image_embeddings(self, image_path):\n",
    "        try:\n",
    "            # Open and process the image\n",
    "            image = Image.open(image_path).convert('RGB')\n",
    "            inputs = self.processor(images=image, return_tensors=\"pt\")\n",
    "\n",
    "            # Extract image embeddings using the vision model\n",
    "            with torch.no_grad():\n",
    "                # Use only the vision model to get image embeddings\n",
    "                vision_outputs = self.model.vision_model(pixel_values=inputs['pixel_values'])\n",
    "                image_embeds = vision_outputs.pooler_output  # Pooled output from vision transformer\n",
    "                image_embeds = self.model.visual_projection(image_embeds)  # Project to common space\n",
    "            return image_embeds.numpy()\n",
    "        except Exception as e:\n",
    "            raise ValueError(f\"Failed to get Image embeddings: {str(e)}\")\n",
    "        \n",
    "\n",
    "    def get_text_embeddings(self, text):\n",
    "        try:\n",
    "            inputs = self.processor(text=[text], return_tensors=\"pt\", padding=True, truncation=True)\n",
    "            with torch.no_grad():\n",
    "                text_outputs = self.model.text_model(\n",
    "                    input_ids=inputs['input_ids'],\n",
    "                    attention_mask=inputs['attention_mask']\n",
    "                )\n",
    "                text_embeds = text_outputs.pooler_output\n",
    "                text_embeds = self.model.text_projection(text_embeds)\n",
    "            return text_embeds.numpy()\n",
    "        except Exception as e:\n",
    "            raise ValueError(f\"Failed to get text embeddings: {str(e)}\")"
   ]
  },
  {
   "cell_type": "code",
   "execution_count": 11,
   "id": "287e2482-26d1-47dc-950d-d811784f2966",
   "metadata": {},
   "outputs": [],
   "source": [
    "image = \"data/Mountain Sun and Camera.png\""
   ]
  },
  {
   "cell_type": "code",
   "execution_count": 12,
   "id": "87af5d8e-0332-4d79-b1c0-a98688c0619a",
   "metadata": {},
   "outputs": [
    {
     "name": "stdout",
     "output_type": "stream",
     "text": [
      "Quantizing model components for CPU compatibility (mocking TensorRT)...\n"
     ]
    }
   ],
   "source": [
    "pm = ProductModel()"
   ]
  },
  {
   "cell_type": "code",
   "execution_count": 13,
   "id": "abeea497-8bc4-43ba-9724-7e2214df228c",
   "metadata": {},
   "outputs": [],
   "source": [
    "im_em = pm.get_image_embeddings(image)"
   ]
  },
  {
   "cell_type": "code",
   "execution_count": 41,
   "id": "c8dd2697-d796-408b-af58-094328469afb",
   "metadata": {},
   "outputs": [
    {
     "data": {
      "text/plain": [
       "array([[ 4.60496694e-02,  1.32213145e-01,  2.98414789e-02,\n",
       "         3.30222934e-01, -7.07582608e-02, -9.33331102e-02,\n",
       "        -4.70201448e-02,  3.10114682e-01,  3.68814170e-03,\n",
       "         7.87665881e-03,  1.26694962e-01, -5.57681620e-01,\n",
       "         6.72545850e-01, -8.59713912e-01,  1.12481929e-01,\n",
       "         2.39247814e-01, -1.37999535e+00, -3.17272544e-02,\n",
       "         7.23719835e-01, -6.66723430e-01,  8.43707800e-01,\n",
       "         2.87548393e-01, -6.84398115e-02, -9.63700771e-01,\n",
       "        -2.07327247e-01,  3.29471678e-01, -2.33646482e-01,\n",
       "        -3.52603942e-03, -1.60966754e-01,  2.62004882e-01,\n",
       "         4.51686829e-02,  2.29838505e-01, -1.46200567e-01,\n",
       "        -2.64058024e-01, -1.16075426e-01,  4.16915119e-01,\n",
       "         2.01606214e-01,  4.01477814e-01, -8.67180526e-03,\n",
       "         8.10218096e-01, -3.84349138e-01,  1.29440457e-01,\n",
       "        -5.55368602e-01, -5.47148585e-01,  4.03766036e-02,\n",
       "        -9.66724098e-01,  9.91781428e-02,  2.64228404e-01,\n",
       "        -1.96643397e-01,  1.04953766e-01,  4.39612120e-01,\n",
       "        -2.14954615e-02,  2.04740256e-01,  9.18351710e-02,\n",
       "         8.49976093e-02,  1.91966087e-01, -2.49237105e-01,\n",
       "        -7.12580606e-02,  3.12690616e-01, -9.85383242e-03,\n",
       "        -1.29992127e+00, -1.94195241e-01, -2.62566268e-01,\n",
       "         3.15390408e-01, -3.19791466e-01, -9.15097594e-02,\n",
       "        -7.93855563e-02,  5.64175844e-01, -1.23180032e-01,\n",
       "        -2.82440819e-02, -5.31168759e-01, -3.49343210e-01,\n",
       "        -8.96416828e-02,  6.20877892e-02,  2.69686162e-01,\n",
       "         4.31079641e-02, -9.34609249e-02,  1.17575705e-01,\n",
       "        -3.53756905e-01, -1.81459814e-01,  3.84945512e-01,\n",
       "         2.47903556e-01,  4.12080020e-01,  3.64970714e-02,\n",
       "         4.11580920e-01,  1.94364429e-01,  3.85814101e-01,\n",
       "        -5.55293143e-01,  3.38314027e-02, -1.16007000e-01,\n",
       "         1.46589220e-01, -1.38066366e-01, -7.65803623e+00,\n",
       "        -4.32945788e-02,  1.36970118e-01,  2.10642785e-01,\n",
       "        -2.01731816e-01, -2.57455468e-01,  5.77508986e-01,\n",
       "        -1.32257617e+00,  1.98682845e-02, -1.63944378e-01,\n",
       "         2.70203561e-01, -7.77188465e-02, -4.15247172e-01,\n",
       "        -2.55989760e-01, -7.45020688e-01,  2.10751057e-01,\n",
       "         1.41993523e-01, -1.76860467e-01,  5.84581196e-01,\n",
       "        -1.37425065e-01,  7.72351474e-02, -2.87723839e-02,\n",
       "        -1.90152600e-01, -1.38280541e-01, -5.64966440e-01,\n",
       "         2.46546865e-02,  5.50114989e-01,  2.80817896e-01,\n",
       "        -3.23698491e-01,  2.84359515e-01, -7.97186792e-03,\n",
       "        -4.85392749e-01, -9.33978856e-02,  2.57330298e-01,\n",
       "         3.06263864e-01,  2.43502527e-01, -4.71724331e-01,\n",
       "         1.50012955e-01, -1.75601095e-02, -1.16507150e-01,\n",
       "        -2.83472613e-02,  9.40871656e-01,  7.05567360e-01,\n",
       "         3.79521362e-02, -1.12181112e-01,  8.28932524e-02,\n",
       "        -1.95460632e-01,  2.06998140e-01, -3.06810170e-01,\n",
       "        -2.67137498e-01, -3.04191053e-01,  1.93218395e-01,\n",
       "        -3.73885691e-01, -4.08883691e-01,  1.26865506e-02,\n",
       "         5.89305341e-01, -1.40421227e-01,  2.02377200e-01,\n",
       "        -6.72143847e-02,  6.39764071e-02,  1.32050693e-01,\n",
       "        -1.24345496e-01,  1.97345585e-01, -5.93558490e-01,\n",
       "         2.31577128e-01, -7.60537833e-02, -3.60378362e-02,\n",
       "         8.89933184e-02, -7.06489384e-01,  4.04704213e-01,\n",
       "         2.98977256e-01,  5.22427633e-02,  5.17280996e-02,\n",
       "        -4.73157763e-01,  4.02416408e-01,  6.14598215e-01,\n",
       "        -1.46825910e-01, -1.03257760e-01, -8.65531564e-02,\n",
       "         2.91685492e-01, -3.13489288e-01, -1.47173122e-01,\n",
       "        -4.98159558e-01, -3.08752120e-01, -4.33511198e-01,\n",
       "         1.66777164e-01, -6.84566796e-01,  2.35298708e-01,\n",
       "         7.55537331e-01, -2.72163063e-01,  2.74469286e-01,\n",
       "         2.89914787e-01, -3.38152289e-01,  3.56672883e-01,\n",
       "         1.83729246e-01, -3.79834324e-02,  1.33704692e-01,\n",
       "         4.66496646e-01, -5.85996546e-02,  5.55838272e-02,\n",
       "         8.53401795e-02,  6.01865947e-02, -8.92063439e-01,\n",
       "        -1.39096946e-01,  1.53022259e-02, -4.78063703e-01,\n",
       "         2.20531672e-01, -2.52281308e-01,  1.61526471e-01,\n",
       "        -2.14786038e-01,  7.89572746e-02,  7.18305230e-01,\n",
       "         7.05650806e-01, -7.03968108e-02, -7.50411600e-02,\n",
       "        -2.45651320e-01,  1.94794983e-02,  1.25858933e-01,\n",
       "        -8.24976027e-01, -3.16919893e-01,  1.57981619e-01,\n",
       "         1.17376730e-01, -7.04578310e-02, -9.55193117e-02,\n",
       "         3.08293134e-01, -2.32616693e-01,  1.05732128e-01,\n",
       "         5.82625493e-02,  4.57935601e-01, -6.43938959e-01,\n",
       "        -1.74823374e-01, -3.91172796e-01, -3.91513109e-01,\n",
       "        -2.17555881e-01,  1.10403687e-01,  1.51320994e-01,\n",
       "         2.89090991e-01,  1.95244521e-01, -1.27141133e-01,\n",
       "         3.29174608e-01, -7.79953599e-02,  7.55452693e-01,\n",
       "        -3.61374803e-02, -1.20544529e+00, -1.79795660e-02,\n",
       "        -1.68735981e-01,  9.10917670e-02, -2.84789354e-02,\n",
       "        -2.65970945e-01,  4.21636820e-01, -2.19159216e-01,\n",
       "         4.04570252e-01, -9.66745615e-02, -7.28828073e-01,\n",
       "         5.27975440e-01,  6.08655930e-01,  1.80219635e-01,\n",
       "        -5.81501275e-02, -2.75345802e-01, -6.53480068e-02,\n",
       "         7.15564340e-02, -2.14222088e-01, -1.38849452e-01,\n",
       "        -2.38289639e-01, -1.29521325e-01, -2.09980235e-01,\n",
       "        -6.03749454e-02,  2.06788674e-01,  1.55665174e-01,\n",
       "         2.87752509e-01,  3.20766866e-03, -4.56031561e-01,\n",
       "        -4.25546952e-02, -7.11977482e-02, -2.35681832e-01,\n",
       "         1.23137914e-01, -1.63224965e-01, -2.57623792e-01,\n",
       "         1.07375324e-01,  1.68870971e-01, -3.04455072e-01,\n",
       "         2.51559228e-01, -5.16647846e-02,  4.74053681e-01,\n",
       "        -1.55739576e-01, -2.60391146e-01, -3.04433405e-01,\n",
       "         8.26548338e-02, -7.94748962e-03,  8.10558349e-02,\n",
       "        -5.43842092e-04,  5.17877564e-02,  1.40338451e-01,\n",
       "        -6.63960129e-02,  3.44727129e-01, -7.16851801e-02,\n",
       "        -2.31875867e-01, -4.17429879e-02, -4.43001270e-01,\n",
       "        -2.02050507e-02,  6.67838901e-02, -7.89479166e-02,\n",
       "        -1.16845965e-03, -2.77223974e-01,  5.16745627e-01,\n",
       "         3.00374568e-01,  2.74477005e-01, -2.86437154e-01,\n",
       "         1.50542557e-01, -1.23549759e-01,  2.33555175e-02,\n",
       "        -1.86273411e-01, -5.80227450e-02, -8.49844098e-01,\n",
       "         1.33547813e-01, -1.65953875e-01,  8.87066603e-01,\n",
       "        -9.65982676e-03, -7.39808828e-02, -2.95994282e-01,\n",
       "         9.38697696e-01, -2.48509720e-02, -6.00147620e-02,\n",
       "        -4.35110241e-01,  9.60660353e-02,  1.35613173e-01,\n",
       "        -7.77887180e-04,  1.99267358e-01,  2.29960248e-01,\n",
       "         4.52886015e-01, -3.68905872e-01, -6.54324070e-02,\n",
       "        -3.51800001e-03,  3.40069085e-01,  1.36944354e-01,\n",
       "         8.73692930e-02,  2.09361032e-01,  2.54300117e-01,\n",
       "         6.98346645e-02, -1.15985282e-01,  2.09819674e-02,\n",
       "         6.16157725e-02,  3.42169777e-02,  7.18768835e-02,\n",
       "         2.33516365e-01, -6.52687997e-03,  3.42147648e-01,\n",
       "        -1.95146278e-01,  7.05708861e-02, -1.47483259e-01,\n",
       "        -7.06058517e-02,  7.55878806e-01, -3.53623718e-01,\n",
       "        -1.56072885e-01, -1.36799455e-01,  2.43826628e-01,\n",
       "         4.05953862e-02, -1.32039756e-01, -2.25417182e-01,\n",
       "         4.00674522e-01,  4.94339645e-01,  2.53863186e-01,\n",
       "         2.72938967e-01, -2.97804296e-01,  3.02584469e-02,\n",
       "         1.40504405e-01,  3.49543244e-01,  2.02826157e-01,\n",
       "         3.51130456e-01,  4.09547426e-02,  3.73318255e-01,\n",
       "         1.14095032e+00,  4.52138513e-01, -2.62353271e-01,\n",
       "        -3.15907985e-01, -9.61240530e-01, -7.41074532e-02,\n",
       "         3.74779761e-01, -3.24784338e-01, -6.57085031e-02,\n",
       "         2.68995941e-01, -1.13524839e-01,  3.92009854e-01,\n",
       "        -2.65671372e-01,  1.54019094e+00,  6.87346160e-02,\n",
       "         5.42314351e-02, -4.00581807e-02,  2.36047402e-01,\n",
       "        -3.27649564e-01,  5.15860915e-01, -4.66393411e-01,\n",
       "        -1.76635191e-01, -6.13082498e-02, -2.56474316e-02,\n",
       "         3.84896785e-01, -7.25263953e-01,  2.36672235e+00,\n",
       "        -4.48824912e-01, -2.17684641e-01, -2.57147029e-02,\n",
       "        -2.04273999e-01, -3.06082308e-01, -4.16485339e-01,\n",
       "         4.29363966e-01, -4.70104039e-01, -6.66928530e-01,\n",
       "         2.32685670e-01,  5.46757340e-01,  2.03268781e-01,\n",
       "        -1.00362480e-01, -3.89530122e-01,  3.28559428e-02,\n",
       "        -1.91120416e-01,  1.70497462e-01, -4.90521491e-01,\n",
       "         1.58195168e-01,  7.16245845e-02,  2.29594231e-01,\n",
       "         1.11112647e-01,  1.65702343e-01,  2.74198294e-01,\n",
       "         1.55510865e-02,  4.01281286e-04,  2.40247399e-01,\n",
       "         1.02023147e-01, -4.50346708e-01, -1.08371042e-01,\n",
       "        -1.15090586e-01, -1.31180018e-01,  1.94082677e-01,\n",
       "         6.14476949e-02, -3.36575478e-01,  2.88090646e-01,\n",
       "        -4.86039221e-02, -5.21228202e-02, -3.77085954e-01,\n",
       "         1.52904585e-01, -2.67945856e-01,  2.20021501e-01,\n",
       "        -1.19353318e+00, -4.55327630e-02, -2.60264277e-01,\n",
       "        -3.14624757e-02,  4.82704900e-02, -1.04363568e-01,\n",
       "        -2.83526108e-02, -1.47562429e-01,  2.86539681e-02,\n",
       "         1.98582485e-01, -1.03121489e-01,  3.93148422e-01,\n",
       "         2.76274800e-01, -2.94792205e-01, -1.97340518e-01,\n",
       "        -2.34814182e-01,  1.87933773e-01,  7.59786889e-02,\n",
       "        -3.08472484e-01, -2.03810304e-01, -2.92782933e-01,\n",
       "        -9.63649869e-01,  1.62907988e-01, -1.00079954e-01,\n",
       "        -4.39277329e-02, -3.75979900e-01, -1.33672222e-01,\n",
       "        -5.76502085e-03,  9.08170789e-02, -3.87753308e-01,\n",
       "         9.66653228e-03, -2.89596200e-01,  8.17473531e-01,\n",
       "         2.34441787e-01, -1.10352136e-01,  2.05930635e-01,\n",
       "         1.74233243e-02,  1.63120687e-01,  1.08290881e-01,\n",
       "         1.55014247e-01, -4.59004074e-01, -7.66247511e-03,\n",
       "        -3.71118605e-01, -3.11006188e-01,  2.96560168e-01,\n",
       "        -9.21773463e-02, -2.35065356e-01, -6.21080875e-01,\n",
       "        -4.44390327e-01, -1.07411079e-01, -7.05367029e-02,\n",
       "         1.18608013e-01, -3.01305920e-01,  6.53463751e-02,\n",
       "        -1.18085131e-01, -1.07395709e-01, -1.70149907e-01,\n",
       "        -1.18455917e-01, -6.79088384e-02, -2.16065392e-01,\n",
       "         2.88775831e-01, -5.69861352e-01,  9.04566646e-02,\n",
       "         3.05428356e-02,  2.86277056e-01,  8.41248110e-02,\n",
       "        -9.47955400e-02, -2.40209341e-01,  7.54754007e-01,\n",
       "        -1.06931210e-01, -4.36111093e-01,  3.49425912e-01,\n",
       "         3.58092278e-01, -4.52026576e-01,  1.72985673e-01,\n",
       "         1.73419818e-01, -2.97263801e-01,  8.61068070e-01,\n",
       "         1.25710964e-01,  2.20877156e-02]], dtype=float32)"
      ]
     },
     "execution_count": 41,
     "metadata": {},
     "output_type": "execute_result"
    }
   ],
   "source": [
    "np.array(im_em.tolist(), dtype=np.float32)"
   ]
  },
  {
   "cell_type": "code",
   "execution_count": 14,
   "id": "45b75834-d021-4b42-bd8c-6ec8c5645875",
   "metadata": {},
   "outputs": [],
   "source": [
    "db = Database()"
   ]
  },
  {
   "cell_type": "code",
   "execution_count": 15,
   "id": "d3d58b86-6463-4258-b868-2a94c65d828c",
   "metadata": {},
   "outputs": [
    {
     "data": {
      "text/plain": [
       "{'ids': [['2689']],\n",
       " 'embeddings': None,\n",
       " 'documents': [[None]],\n",
       " 'uris': None,\n",
       " 'data': None,\n",
       " 'metadatas': [[None]],\n",
       " 'distances': [[12.759922326591681]],\n",
       " 'included': [<IncludeEnum.distances: 'distances'>,\n",
       "  <IncludeEnum.documents: 'documents'>,\n",
       "  <IncludeEnum.metadatas: 'metadatas'>]}"
      ]
     },
     "execution_count": 15,
     "metadata": {},
     "output_type": "execute_result"
    }
   ],
   "source": [
    "db.query_vector(image_embedding=im_em)"
   ]
  },
  {
   "cell_type": "code",
   "execution_count": 4,
   "id": "220e4972-32bc-468a-9c59-774ed46bb759",
   "metadata": {},
   "outputs": [],
   "source": [
    "from pymongo import MongoClient\n",
    "import chromadb\n",
    "from src.config import Config\n",
    "\n",
    "class Database:\n",
    "    def __init__(self):\n",
    "        # MongoDB Atlas\n",
    "        self.mongo_client = MongoClient(Config.MONGO_URI)\n",
    "        self.db = self.mongo_client[Config.DB_NAME]\n",
    "        self.products = self.db['products']\n",
    "        self.logs = self.db['logs']\n",
    "        \n",
    "        # Local ChromaDB\n",
    "        self.chroma_client = chromadb.PersistentClient(path=\"./chroma_db\")\n",
    "        self.image_collection = self.chroma_client.create_collection(Config.IMAGE_COLLECTION, get_or_create=True)\n",
    "        self.text_collection = self.chroma_client.create_collection(Config.TEXT_COLLECTION, get_or_create=True)\n",
    "\n",
    "    def add_product(self, image_embedding, text_embedding, metadata, product_id):\n",
    "        try:\n",
    "            self.image_collection.add(embeddings=image_embedding.tolist(), ids=[product_id])\n",
    "            self.text_collection.add(embeddings=text_embedding.tolist(), ids=[product_id])\n",
    "            metadata[\"embedding_id\"] = product_id\n",
    "            self.products.insert_one(metadata)\n",
    "            return True\n",
    "        except Exception as e:\n",
    "            self.logs.insert_one({\"error\": str(e)})\n",
    "            return False\n",
    "\n",
    "    def find_product(self, product_id):\n",
    "        return self.products.find_one({\"embedding_id\": product_id})\n",
    "\n",
    "    def query_vector(self, image_embedding=None, text_embedding=None):\n",
    "        if image_embedding is None and text_embedding is None:\n",
    "            raise ValueError(\"At least one embedding must be provided in Query Vector Search\")\n",
    "        \n",
    "        if image_embedding is not None and text_embedding is not None:\n",
    "            image_result = self.image_collection.query(query_embeddings=image_embedding.tolist(), n_results=1)\n",
    "            text_result = self.text_collection.query(query_embeddings=text_embedding.tolist(), n_results=1)\n",
    "            combined_distance = (image_result['distances'][0][0] + text_result['distances'][0][0]) / 2\n",
    "            return {\n",
    "                'ids': image_result['ids'],  # Assuming same order; could refine with more logic\n",
    "                'distances': [[combined_distance]]\n",
    "            }\n",
    "        elif image_embedding is not None:\n",
    "            return self.image_collection.query(query_embeddings=image_embedding.tolist(), n_results=1)\n",
    "        elif text_embedding is not None:\n",
    "            return self.text_collection.query(query_embeddings=text_embedding.tolist(), n_results=1)\n",
    "\n",
    "    def log_error(self, error):\n",
    "        self.logs.insert_one({\"error\": str(error)})"
   ]
  },
  {
   "cell_type": "code",
   "execution_count": null,
   "id": "abb5ea09-f016-47dc-b70b-dfc358cb2699",
   "metadata": {},
   "outputs": [],
   "source": []
  },
  {
   "cell_type": "code",
   "execution_count": null,
   "id": "dae7b7ff-11bf-40d2-b795-4896fbb47bcf",
   "metadata": {},
   "outputs": [],
   "source": []
  },
  {
   "cell_type": "code",
   "execution_count": null,
   "id": "42aa13ac-6ede-48db-8810-a9c5ebb02cae",
   "metadata": {},
   "outputs": [],
   "source": []
  },
  {
   "cell_type": "code",
   "execution_count": null,
   "id": "ee324163-3b49-45bd-8e41-c095465daf13",
   "metadata": {},
   "outputs": [],
   "source": []
  },
  {
   "cell_type": "code",
   "execution_count": 15,
   "id": "1f9a5146-9b6b-4c21-ac2f-7e0156c6b4f8",
   "metadata": {},
   "outputs": [],
   "source": [
    "model = CLIPModel.from_pretrained(\"openai/clip-vit-base-patch32\")\n",
    "processor = CLIPProcessor.from_pretrained(\"openai/clip-vit-base-patch32\")"
   ]
  },
  {
   "cell_type": "code",
   "execution_count": 16,
   "id": "a612c7af-5276-4791-81a0-e0d67518aa9a",
   "metadata": {},
   "outputs": [],
   "source": [
    "image = Image.open('data/image2.jpg').convert('RGB')"
   ]
  },
  {
   "cell_type": "code",
   "execution_count": 17,
   "id": "20377f52-b6db-4cee-8db3-542882582a3e",
   "metadata": {},
   "outputs": [],
   "source": [
    "inputs = processor(images=image, return_tensors=\"pt\")"
   ]
  },
  {
   "cell_type": "code",
   "execution_count": 18,
   "id": "f9657e88-b4d2-42f7-9f20-3f76d6b632ee",
   "metadata": {},
   "outputs": [],
   "source": [
    "with torch.no_grad():\n",
    "    # Use only the vision model to get image embeddings\n",
    "    vision_outputs = model.vision_model(pixel_values=inputs['pixel_values'])\n",
    "    image_embeds = vision_outputs.pooler_output  # Pooled output from vision transformer\n",
    "    image_embeds = model.visual_projection(image_embeds)  # Project to common space"
   ]
  },
  {
   "cell_type": "code",
   "execution_count": 19,
   "id": "995e8a08-246b-4c70-9b1e-af4ddeb51b57",
   "metadata": {},
   "outputs": [],
   "source": [
    "em = image_embeds.numpy()"
   ]
  },
  {
   "cell_type": "code",
   "execution_count": 20,
   "id": "5621297c-46f0-4470-ac48-1d55cff03cdd",
   "metadata": {},
   "outputs": [],
   "source": [
    "metadata = {'name': 'image2', 'category': 'image2', 'price': 2.0, 'filename': 'image2.jpg'}"
   ]
  },
  {
   "cell_type": "code",
   "execution_count": 21,
   "id": "77486051-e1cb-445c-96f3-269ddd92c6b2",
   "metadata": {},
   "outputs": [],
   "source": [
    "product_id = metadata.get(\"id\", str(np.random.randint(10000)))"
   ]
  },
  {
   "cell_type": "code",
   "execution_count": 22,
   "id": "bc1df624-7ac2-497e-983f-46971d043e60",
   "metadata": {},
   "outputs": [
    {
     "data": {
      "text/plain": [
       "'7196'"
      ]
     },
     "execution_count": 22,
     "metadata": {},
     "output_type": "execute_result"
    }
   ],
   "source": [
    "product_id"
   ]
  },
  {
   "cell_type": "code",
   "execution_count": 27,
   "id": "005d955c-c6df-4a71-85cf-ca397fbb6808",
   "metadata": {},
   "outputs": [],
   "source": [
    "from pymongo import MongoClient\n",
    "import chromadb\n",
    "from config import Config\n",
    "\n",
    "class Database:\n",
    "    def __init__(self):\n",
    "        # MongoDB Atlas\n",
    "        self.mongo_client = MongoClient(Config.MONGO_URI)\n",
    "        self.db = self.mongo_client[Config.DB_NAME]\n",
    "        self.products = self.db['products']\n",
    "        self.logs = self.db['logs']\n",
    "        \n",
    "        # Local ChromaDB\n",
    "        self.chroma_client = chromadb.PersistentClient(path=\"./chroma_db\")\n",
    "        self.image_collection = self.chroma_client.create_collection(Config.IMAGE_COLLECTION, get_or_create=True)\n",
    "        self.text_collection = self.chroma_client.create_collection(Config.TEXT_COLLECTION, get_or_create=True)\n",
    "\n",
    "    def add_product(self, image_embedding, text_embedding, metadata, product_id):\n",
    "        try:\n",
    "            self.image_collection.add(embeddings=image_embedding.tolist(), ids=[product_id])\n",
    "            self.text_collection.add(embeddings=text_embedding.tolist(), ids=[product_id])\n",
    "            metadata[\"embedding_id\"] = product_id\n",
    "            self.products.insert_one(metadata)\n",
    "            return True\n",
    "        except Exception as e:\n",
    "            self.logs.insert_one({\"error\": str(e)})\n",
    "            return False\n",
    "\n",
    "    def find_product(self, product_id):\n",
    "        return self.products.find_one({\"embedding_id\": product_id})\n",
    "\n",
    "    def query_vector(self, image_embedding=None, text_embedding=None):\n",
    "        if image_embedding is None and text_embedding is None:\n",
    "            raise ValueError(\"At least one embedding must be provided in Query Vector Search\")\n",
    "        \n",
    "        if image_embedding is not None and text_embedding is not None:\n",
    "            image_result = self.image_collection.query(query_embeddings=image_embedding.tolist(), n_results=1)\n",
    "            text_result = self.text_collection.query(query_embeddings=text_embedding.tolist(), n_results=1)\n",
    "            combined_distance = (image_result['distances'][0][0] + text_result['distances'][0][0]) / 2\n",
    "            return {\n",
    "                'ids': image_result['ids'],  # Assuming same order; could refine with more logic\n",
    "                'distances': [[combined_distance]]\n",
    "            }\n",
    "        elif image_embedding is not None:\n",
    "            return self.image_collection.query(query_embeddings=image_embedding.tolist(), n_results=1)\n",
    "        elif text_embedding is not None:\n",
    "            return self.text_collection.query(query_embeddings=text_embedding.tolist(), n_results=1)\n",
    "\n",
    "    def log_error(self, error):\n",
    "        self.logs.insert_one({\"error\": str(error)})"
   ]
  },
  {
   "cell_type": "code",
   "execution_count": 28,
   "id": "bcdce65c-a283-4eb2-bf69-eee3fdcd2a47",
   "metadata": {},
   "outputs": [],
   "source": [
    "db = Database()"
   ]
  },
  {
   "cell_type": "code",
   "execution_count": 29,
   "id": "746a4154-1543-406d-9288-f940d5dc014c",
   "metadata": {},
   "outputs": [
    {
     "ename": "TypeError",
     "evalue": "Database.add_product() missing 1 required positional argument: 'product_id'",
     "output_type": "error",
     "traceback": [
      "\u001b[1;31m---------------------------------------------------------------------------\u001b[0m",
      "\u001b[1;31mTypeError\u001b[0m                                 Traceback (most recent call last)",
      "Cell \u001b[1;32mIn[29], line 1\u001b[0m\n\u001b[1;32m----> 1\u001b[0m \u001b[43mdb\u001b[49m\u001b[38;5;241;43m.\u001b[39;49m\u001b[43madd_product\u001b[49m\u001b[43m(\u001b[49m\u001b[43mem\u001b[49m\u001b[43m,\u001b[49m\u001b[43m \u001b[49m\u001b[43mmetadata\u001b[49m\u001b[43m,\u001b[49m\u001b[43m \u001b[49m\u001b[43mproduct_id\u001b[49m\u001b[43m)\u001b[49m\n",
      "\u001b[1;31mTypeError\u001b[0m: Database.add_product() missing 1 required positional argument: 'product_id'"
     ]
    }
   ],
   "source": [
    "db.add_product(em, metadata, product_id)"
   ]
  },
  {
   "cell_type": "code",
   "execution_count": 31,
   "id": "e546a90e-1120-45af-a340-d1c3ca2f2937",
   "metadata": {},
   "outputs": [
    {
     "ename": "NameError",
     "evalue": "name 'products' is not defined",
     "output_type": "error",
     "traceback": [
      "\u001b[1;31m---------------------------------------------------------------------------\u001b[0m",
      "\u001b[1;31mNameError\u001b[0m                                 Traceback (most recent call last)",
      "Cell \u001b[1;32mIn[31], line 1\u001b[0m\n\u001b[1;32m----> 1\u001b[0m \u001b[43mproducts\u001b[49m\u001b[38;5;241m.\u001b[39mfind_one({\u001b[38;5;124m\"\u001b[39m\u001b[38;5;124membedding_id\u001b[39m\u001b[38;5;124m\"\u001b[39m: product_id})\n",
      "\u001b[1;31mNameError\u001b[0m: name 'products' is not defined"
     ]
    }
   ],
   "source": [
    "products.find_one({\"embedding_id\": product_id})"
   ]
  },
  {
   "cell_type": "code",
   "execution_count": 21,
   "id": "50021fb5-224c-4c25-a79d-a1583257f4ca",
   "metadata": {},
   "outputs": [
    {
     "data": {
      "text/plain": [
       "tensor([[ 4.3531e-01, -2.7229e-01, -4.1955e-01,  1.4281e-01,  1.1481e-01,\n",
       "         -2.7920e-01,  1.6093e-01,  1.1949e-01,  2.9444e-01,  4.5332e-01,\n",
       "          1.9529e-01, -8.7197e-02,  3.8882e-01, -3.4051e-01, -6.9022e-02,\n",
       "          2.9721e-01,  1.8352e-01,  1.2734e-01,  2.7938e-01, -5.5388e-02,\n",
       "         -1.3446e-01,  2.8717e-03, -2.4914e-01, -1.7240e-01,  5.6754e-02,\n",
       "         -1.1113e-01,  5.4551e-01, -1.4033e-01,  3.1976e-01,  1.9605e-01,\n",
       "          1.4207e-01,  6.4291e-01, -1.1071e-01,  7.6126e-02, -6.4245e-01,\n",
       "          3.5593e-01,  1.6354e-02,  2.9927e-01,  1.5811e-01, -9.0015e-01,\n",
       "          1.2340e-01, -2.1670e-01, -1.3033e-01, -5.9603e-01,  4.4137e-01,\n",
       "          7.5225e-01,  1.0451e-01, -1.1869e-01, -7.4424e-01,  4.2923e-01,\n",
       "         -2.0678e-02,  2.5914e-01,  8.7514e-02, -3.1141e-01,  1.1439e-01,\n",
       "         -1.5802e-01, -1.9444e-01, -3.5095e-01,  6.7247e-01,  5.4727e-01,\n",
       "          1.5959e-02, -2.1647e-02,  1.7429e-01, -1.7409e-01,  7.9685e-02,\n",
       "         -5.9897e-01, -3.2357e-01, -1.4854e-01, -4.2300e-02,  8.7243e-03,\n",
       "         -6.3192e-01, -2.7063e-02, -2.9390e-01,  3.9449e-02, -1.3629e-01,\n",
       "         -4.8443e-01,  2.1076e-01, -5.7421e-01, -3.0318e-01, -3.4293e-01,\n",
       "          3.5555e-01,  9.7892e-02,  5.3140e-01, -7.0200e-01,  4.4414e-01,\n",
       "          3.0163e-01, -4.1291e-01, -3.8952e-01,  1.3163e-02, -2.4731e-01,\n",
       "         -3.4509e-02, -9.0202e-02, -8.1666e+00,  1.4452e-01,  3.0759e-01,\n",
       "          8.6959e-02, -3.7699e-01,  4.3192e-01, -1.0238e+00, -2.0426e+00,\n",
       "          1.0536e-01,  8.0815e-02, -3.6183e-01, -3.7023e-01,  9.1328e-01,\n",
       "         -1.5169e-02, -4.4715e-01, -2.1564e-01, -1.3566e-01, -4.5729e-01,\n",
       "          5.4018e-01, -5.1675e-01,  1.3125e-01,  1.5316e-01,  2.2435e-01,\n",
       "         -9.7898e-02, -8.6780e-01, -5.3929e-02, -1.9564e-01, -2.1166e-01,\n",
       "          2.2493e-01,  2.9048e-01,  4.4283e-01, -1.4625e-01,  2.4096e-01,\n",
       "         -1.4107e-02, -1.3840e-01, -4.1011e-01,  3.1186e-01,  3.9406e-01,\n",
       "         -3.7598e-01,  1.9844e-01,  1.0752e-01,  1.0062e+00,  7.2863e-01,\n",
       "         -3.1163e-02,  2.3556e-01, -1.0101e-01, -9.0243e-02, -4.1497e-01,\n",
       "          2.7261e-01, -6.3646e-02, -3.4019e-01, -1.5133e-01, -4.9654e-01,\n",
       "          2.4267e-01,  1.5938e-01,  2.5838e-01, -4.7945e-01,  3.5367e-01,\n",
       "         -1.7690e-01,  7.3238e-01,  7.8989e-01, -2.6180e-01, -3.5315e-01,\n",
       "         -9.4183e-02,  9.9015e-02,  4.4274e-01, -2.7920e-01,  8.8766e-02,\n",
       "         -2.2762e-01, -9.3903e-02,  4.8509e-01, -3.4539e-01, -1.6387e-01,\n",
       "         -1.4484e-02,  4.1699e-01,  4.1923e-01, -1.4216e-02, -1.4283e-01,\n",
       "          2.5515e-01,  1.5857e-02, -1.2463e-01, -2.5494e-02, -8.8270e-03,\n",
       "          4.5071e-01, -9.5892e-01,  3.0025e-01, -4.0597e-01, -5.9944e-01,\n",
       "         -5.2803e-02, -4.3246e-01, -3.1526e-01, -1.0203e-01, -4.9184e-01,\n",
       "          1.8551e-01,  3.9894e-01,  4.7425e-02, -1.3966e-01,  1.3919e-02,\n",
       "         -6.3617e-01,  2.8754e-01,  3.0226e-02, -1.0082e-01, -5.1055e-01,\n",
       "          2.1826e-01,  4.7981e-01, -1.6199e-03,  4.6361e-01, -3.7803e-01,\n",
       "         -3.7761e-01,  8.5346e-02, -1.1667e-01, -6.5603e-02,  4.4890e-01,\n",
       "         -4.7500e-01,  1.2819e-01, -2.0487e-01, -1.6914e-01,  5.3174e-01,\n",
       "         -1.9094e-01, -3.9277e-01,  1.0777e-01, -1.0366e-01, -2.8411e-01,\n",
       "         -2.4978e-01, -1.4262e-01,  4.2242e-01,  6.1986e-01, -1.7895e-01,\n",
       "          6.1365e-02, -5.1199e-01,  4.8528e-01,  1.9919e-01, -7.9307e-02,\n",
       "          1.9325e-01,  4.6443e-02, -3.2064e-01, -1.0097e-01,  5.9782e-02,\n",
       "          1.3411e-01,  9.3697e-02,  2.0847e-01,  5.5878e-01, -1.1255e-01,\n",
       "          1.4855e-02,  6.6869e-02,  1.8226e-01,  2.4325e-01,  2.8002e-01,\n",
       "          1.1752e-01,  2.5178e-01, -1.4032e-01, -4.4884e-02,  9.6167e-02,\n",
       "         -4.2842e-01, -2.2666e-01, -1.1646e-01, -1.9363e-01,  3.5453e-01,\n",
       "         -8.2521e-02,  3.9498e-01,  2.0901e-01, -1.7084e-02, -1.6326e-01,\n",
       "         -4.2268e-01, -2.7258e-01,  1.2058e-01,  5.3913e-01,  9.8497e-02,\n",
       "         -2.2537e-01,  2.2597e-01, -1.5316e-01,  3.1213e-02, -1.8391e-01,\n",
       "         -2.2793e-02, -1.9526e-01, -4.8039e-01,  4.1023e-02, -3.8369e-02,\n",
       "          4.4164e-01,  1.1186e-01, -8.0709e-02, -4.8706e-01,  1.4107e-01,\n",
       "          1.3534e-01, -4.3471e-01, -3.1242e-02,  3.8436e-03,  1.2232e-01,\n",
       "          2.5886e-01, -1.8224e-01, -3.2830e-01,  1.1284e-01,  1.5567e-01,\n",
       "         -1.8348e-01, -2.1768e+00,  2.4253e-02, -3.3489e-01, -9.5598e-02,\n",
       "          7.3361e-01, -1.3525e-02,  4.4258e-02, -5.0099e-02, -5.5189e-01,\n",
       "         -3.6787e-02, -6.2002e-01,  1.8635e-01, -3.7676e-01, -3.9440e-01,\n",
       "         -3.9858e-01, -5.8887e-01, -6.1379e-02,  2.1626e-01, -2.4001e-01,\n",
       "          3.5864e-02, -2.9282e-01,  2.5462e-01,  3.8679e-01,  1.0632e-01,\n",
       "          1.9115e-01,  4.6083e-01,  1.0053e+00, -1.7265e-01,  9.4624e-02,\n",
       "          3.1210e-01,  3.2784e-01,  2.3402e-01, -5.7963e-02, -4.0943e-01,\n",
       "          3.4745e-01,  1.7191e+00, -1.7328e-01,  1.5293e-01, -4.7443e-02,\n",
       "         -1.2186e-01,  6.8843e-02,  2.7805e-01, -1.4333e-01,  3.3856e-01,\n",
       "         -8.7030e-02, -3.1867e-01,  3.0016e-01,  5.0734e-01, -1.9657e-01,\n",
       "          4.0939e-01, -1.4719e-01, -1.9866e-01,  2.8145e-01,  3.6269e-02,\n",
       "         -5.1875e-02, -1.0519e-01,  6.0337e-02,  1.6265e-01, -2.0610e-01,\n",
       "         -8.9700e-02,  1.7446e-01, -1.4308e-01,  4.1995e-01,  4.3154e-01,\n",
       "         -2.3712e-01, -1.3204e-01,  1.0913e-01, -2.1228e-01,  3.7440e-02,\n",
       "         -3.6065e-01,  2.7520e-01, -2.7747e-01,  5.9120e-02, -4.4395e-01,\n",
       "          1.2053e-01,  7.4692e-02, -2.1207e-01, -5.8461e-02, -6.9639e-01,\n",
       "         -2.0669e-01,  3.6728e-01,  3.5046e-01, -1.2202e-01,  2.0366e-01,\n",
       "         -2.1492e-01,  2.5355e-01, -1.8368e-01, -3.3961e-01, -5.7023e-02,\n",
       "          2.5836e-01,  7.3907e-01,  1.8145e-01,  8.8846e-01,  4.6299e-02,\n",
       "         -6.6664e-02, -6.5222e-01, -4.4008e-02, -4.6648e-01, -1.0750e-01,\n",
       "          6.2471e-01,  1.9138e-01,  1.6123e-01, -3.8818e-01,  7.2050e-01,\n",
       "          2.2369e-01, -3.0080e-01,  1.0512e-01,  1.0797e-01,  4.6637e-01,\n",
       "          1.7488e-01, -4.4796e-01, -2.8426e-01, -1.5629e-01, -2.0339e-01,\n",
       "         -2.1332e-01,  2.3899e-01,  4.0518e-02, -2.4037e-01, -1.6242e-02,\n",
       "         -2.8298e-01,  4.6684e-01,  1.5883e-01,  1.3440e-01,  5.3656e-02,\n",
       "          1.8797e-01,  1.1914e-02, -8.6023e-03, -9.4908e-02,  2.6595e-02,\n",
       "         -2.2561e-01, -2.8006e-02, -3.5304e-01,  2.0680e-01, -8.0153e-03,\n",
       "         -1.9024e-01, -8.4785e-02,  1.8106e-01,  1.7914e-01,  5.8094e-02,\n",
       "          3.6732e-01,  2.0859e-01, -3.9756e-01, -9.9816e-01,  6.6832e-02,\n",
       "         -1.1919e-01,  2.2730e-02, -9.5740e-01, -1.7461e-01,  4.4051e-01,\n",
       "         -1.1065e-01, -1.1439e-02,  7.6019e-02, -3.0607e-01,  3.0240e-02,\n",
       "          1.3229e-01,  4.0096e-01, -5.4285e-02,  3.3838e-02, -1.9108e-01,\n",
       "          1.6378e-01,  4.2834e-02, -1.7066e-01, -5.7157e-01, -1.5679e-01,\n",
       "         -1.5804e-01,  4.3269e-03,  3.1200e-01, -1.5401e-02, -1.7133e-01,\n",
       "         -2.5088e-01,  3.8028e-01, -3.1603e-03, -2.3443e-01, -1.4571e-01,\n",
       "          4.4855e-01, -3.9115e-01,  4.4591e-02,  1.4089e-01, -2.9110e-01,\n",
       "          4.0519e-01,  6.3128e-01, -6.3110e-02, -5.2751e-02, -4.0877e-01,\n",
       "         -2.6288e-01, -1.7865e-01,  1.6064e-01,  9.2726e-03, -2.9552e-02,\n",
       "         -2.3374e-01, -3.5899e-01,  1.3975e-01,  1.1751e-01,  6.4416e-02,\n",
       "          1.2815e-01,  5.9241e-02, -2.2699e-01,  3.8016e-01,  1.2180e-01,\n",
       "          2.8100e-01, -1.4194e-01,  4.2457e-01,  2.8115e-01, -2.6640e-01,\n",
       "          2.2087e-01, -4.5496e-01,  7.5893e-01, -9.1098e-01, -3.8990e-01,\n",
       "         -1.4377e-01, -9.5454e-02,  2.3561e-01, -9.8844e-02, -5.9002e-01,\n",
       "          2.0705e-01, -9.0326e-02,  1.2759e-01, -4.1488e-01,  2.4707e-01,\n",
       "          2.0207e-01,  1.4343e-01, -3.3087e-02, -8.2729e-02,  5.3795e-01,\n",
       "         -9.7299e-02,  7.4076e-02]])"
      ]
     },
     "execution_count": 21,
     "metadata": {},
     "output_type": "execute_result"
    }
   ],
   "source": [
    "image_embeds"
   ]
  },
  {
   "cell_type": "code",
   "execution_count": null,
   "id": "1d1f21c1-2fc2-4f5d-8eed-e1b0682ff7e9",
   "metadata": {},
   "outputs": [],
   "source": []
  },
  {
   "cell_type": "code",
   "execution_count": null,
   "id": "634dfd54-eff5-4694-9c1b-bccba14cd48c",
   "metadata": {},
   "outputs": [],
   "source": []
  },
  {
   "cell_type": "code",
   "execution_count": null,
   "id": "9b715d19-abd8-4358-9534-faab08618fe3",
   "metadata": {},
   "outputs": [],
   "source": []
  }
 ],
 "metadata": {
  "kernelspec": {
   "display_name": "ai_infra_venv",
   "language": "python",
   "name": "ai_infra_venv"
  },
  "language_info": {
   "codemirror_mode": {
    "name": "ipython",
    "version": 3
   },
   "file_extension": ".py",
   "mimetype": "text/x-python",
   "name": "python",
   "nbconvert_exporter": "python",
   "pygments_lexer": "ipython3",
   "version": "3.12.4"
  }
 },
 "nbformat": 4,
 "nbformat_minor": 5
}
