{
 "cells": [
  {
   "cell_type": "code",
   "execution_count": 14,
   "id": "4caf0a9e-19d2-4a84-969f-b13766795fa2",
   "metadata": {},
   "outputs": [],
   "source": [
    "from transformers import CLIPProcessor, CLIPModel\n",
    "import torch\n",
    "from PIL import Image\n",
    "import numpy as np"
   ]
  },
  {
   "cell_type": "code",
   "execution_count": 3,
   "id": "220e4972-32bc-468a-9c59-774ed46bb759",
   "metadata": {},
   "outputs": [],
   "source": [
    "class ProductModel:\n",
    "    def __init__(self):\n",
    "        self.model = CLIPModel.from_pretrained(\"openai/clip-vit-base-patch32\")\n",
    "        self.processor = CLIPProcessor.from_pretrained(\"openai/clip-vit-base-patch32\")\n",
    "\n",
    "    def get_embeddings(self, image_path):\n",
    "        image = Image.open(image_path).convert('RGB')\n",
    "        inputs = self.processor(images=image, return_tensors=\"pt\")\n",
    "        with torch.no_grad():\n",
    "            return self.model(**inputs).image_embeds.numpy()"
   ]
  },
  {
   "cell_type": "code",
   "execution_count": 4,
   "id": "1f9a5146-9b6b-4c21-ac2f-7e0156c6b4f8",
   "metadata": {},
   "outputs": [],
   "source": [
    "model = CLIPModel.from_pretrained(\"openai/clip-vit-base-patch32\")\n",
    "processor = CLIPProcessor.from_pretrained(\"openai/clip-vit-base-patch32\")"
   ]
  },
  {
   "cell_type": "code",
   "execution_count": 6,
   "id": "a612c7af-5276-4791-81a0-e0d67518aa9a",
   "metadata": {},
   "outputs": [],
   "source": [
    "image = Image.open('data/image2.jpg').convert('RGB')"
   ]
  },
  {
   "cell_type": "code",
   "execution_count": 7,
   "id": "20377f52-b6db-4cee-8db3-542882582a3e",
   "metadata": {},
   "outputs": [],
   "source": [
    "inputs = processor(images=image, return_tensors=\"pt\")"
   ]
  },
  {
   "cell_type": "code",
   "execution_count": 8,
   "id": "f9657e88-b4d2-42f7-9f20-3f76d6b632ee",
   "metadata": {},
   "outputs": [],
   "source": [
    "with torch.no_grad():\n",
    "    # Use only the vision model to get image embeddings\n",
    "    vision_outputs = model.vision_model(pixel_values=inputs['pixel_values'])\n",
    "    image_embeds = vision_outputs.pooler_output  # Pooled output from vision transformer\n",
    "    image_embeds = model.visual_projection(image_embeds)  # Project to common space"
   ]
  },
  {
   "cell_type": "code",
   "execution_count": 9,
   "id": "995e8a08-246b-4c70-9b1e-af4ddeb51b57",
   "metadata": {},
   "outputs": [],
   "source": [
    "em = image_embeds.numpy()"
   ]
  },
  {
   "cell_type": "code",
   "execution_count": 12,
   "id": "5621297c-46f0-4470-ac48-1d55cff03cdd",
   "metadata": {},
   "outputs": [],
   "source": [
    "metadata = {'name': 'image2', 'category': 'image2', 'price': 2.0, 'filename': 'image2.jpg'}"
   ]
  },
  {
   "cell_type": "code",
   "execution_count": 15,
   "id": "77486051-e1cb-445c-96f3-269ddd92c6b2",
   "metadata": {},
   "outputs": [],
   "source": [
    "product_id = metadata.get(\"id\", str(np.random.randint(10000)))"
   ]
  },
  {
   "cell_type": "code",
   "execution_count": 16,
   "id": "bc1df624-7ac2-497e-983f-46971d043e60",
   "metadata": {},
   "outputs": [
    {
     "data": {
      "text/plain": [
       "'3428'"
      ]
     },
     "execution_count": 16,
     "metadata": {},
     "output_type": "execute_result"
    }
   ],
   "source": [
    "product_id"
   ]
  },
  {
   "cell_type": "code",
   "execution_count": 17,
   "id": "005d955c-c6df-4a71-85cf-ca397fbb6808",
   "metadata": {},
   "outputs": [],
   "source": [
    "from pymongo import MongoClient\n",
    "import chromadb\n",
    "from config import Config\n",
    "\n",
    "class Database:\n",
    "    def __init__(self):\n",
    "        # MongoDB Atlas\n",
    "        self.mongo_client = MongoClient(Config.MONGO_URI)\n",
    "        self.db = self.mongo_client[Config.DB_NAME]\n",
    "        self.products = self.db['products']\n",
    "        self.logs = self.db['logs']\n",
    "        \n",
    "        # Local ChromaDB\n",
    "        self.chroma_client = chromadb.Client()\n",
    "        self.collection = self.chroma_client.create_collection(Config.CHROMA_COLLECTION, get_or_create=True)\n",
    "\n",
    "    def add_product(self, embedding, metadata, product_id):\n",
    "        try:\n",
    "            self.collection.add(embeddings=embedding.tolist(), ids=[product_id])\n",
    "            metadata[\"embedding_id\"] = product_id\n",
    "            self.products.insert_one(metadata)\n",
    "            return True\n",
    "        except Exception as e:\n",
    "            self.logs.insert_one({\"error\": str(e)})\n",
    "            return False\n",
    "\n",
    "    def find_product(self, product_id):\n",
    "        return self.products.find_one({\"embedding_id\": product_id})\n",
    "\n",
    "    def query_vector(self, embedding):\n",
    "        return self.collection.query(query_embeddings=embedding.tolist(), n_results=1)\n",
    "\n",
    "    def log_error(self, error):\n",
    "        self.logs.insert_one({\"error\": str(error)})"
   ]
  },
  {
   "cell_type": "code",
   "execution_count": 18,
   "id": "bcdce65c-a283-4eb2-bf69-eee3fdcd2a47",
   "metadata": {},
   "outputs": [],
   "source": [
    "db = Database()"
   ]
  },
  {
   "cell_type": "code",
   "execution_count": null,
   "id": "746a4154-1543-406d-9288-f940d5dc014c",
   "metadata": {},
   "outputs": [],
   "source": [
    "db.add_product(em, metadata, product_id)"
   ]
  },
  {
   "cell_type": "code",
   "execution_count": null,
   "id": "e546a90e-1120-45af-a340-d1c3ca2f2937",
   "metadata": {},
   "outputs": [],
   "source": []
  }
 ],
 "metadata": {
  "kernelspec": {
   "display_name": "ai_infra_venv",
   "language": "python",
   "name": "ai_infra_venv"
  },
  "language_info": {
   "codemirror_mode": {
    "name": "ipython",
    "version": 3
   },
   "file_extension": ".py",
   "mimetype": "text/x-python",
   "name": "python",
   "nbconvert_exporter": "python",
   "pygments_lexer": "ipython3",
   "version": "3.12.4"
  }
 },
 "nbformat": 4,
 "nbformat_minor": 5
}
